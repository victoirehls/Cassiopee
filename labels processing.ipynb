{
 "cells": [
  {
   "cell_type": "code",
   "execution_count": 2,
   "id": "3517a87a-a04b-4fc3-8292-fc89c9bd5f65",
   "metadata": {},
   "outputs": [],
   "source": [
    "import tensorflow as tf\n",
    "import numpy as np\n",
    "import os\n",
    "import cv2\n",
    "from tensorflow import keras as keras\n",
    "from tensorflow.keras import *\n",
    "from tensorflow.keras.layers import *\n",
    "import matplotlib.pyplot as plt\n",
    "%matplotlib inline\n",
    "import pandas as pd\n",
    "\n",
    "\n",
    "from skimage.io import imread, imshow\n",
    "from skimage.transform import resize\n",
    "\n",
    "# Don't Show Warning Messages\n",
    "import warnings\n",
    "warnings.filterwarnings('ignore')"
   ]
  },
  {
   "cell_type": "code",
   "execution_count": 3,
   "id": "ab12469f-e6d3-4978-81ff-660a0e0e6380",
   "metadata": {},
   "outputs": [],
   "source": [
    "def MergeClass(Mask, n_classes):\n",
    "    if n_classes == 2:\n",
    "        for index1 in range(len(Mask)):\n",
    "            for index2 in range(len(Mask[index1])):\n",
    "                for index3 in range(len(Mask[index1][index2])):\n",
    "                    Value = Mask[index1][index2][index3]\n",
    "                    if Value == 0:\n",
    "                        Mask[index1][index2][index3] = 0\n",
    "                    else:\n",
    "                        Mask[index1][index2][index3] = 1\n",
    "    if n_classes == 3:\n",
    "        for index1 in range(len(Mask)):\n",
    "            for index2 in range(len(Mask[index1])):\n",
    "                for index3 in range(len(Mask[index1][index2])):\n",
    "                    Value = Mask[index1][index2][index3]\n",
    "                    if Value == 0:\n",
    "                        Mask[index1][index2][index3] = 0\n",
    "                    elif Value == 128 or Value == 127:\n",
    "                        Mask[index1][index2][index3] = 1\n",
    "                    elif Value == 255 or Value == 254:\n",
    "                        Mask[index1][index2][index3] = 2\n",
    "        return Mask"
   ]
  },
  {
   "cell_type": "code",
   "execution_count": 3,
   "id": "98d0976a-3fee-4a91-9b55-8ca0d42578e3",
   "metadata": {},
   "outputs": [],
   "source": [
    "y_paths = os.listdir('/space/storage/homes/vrv/cellseg-cuda/processed_data/new_data/labels')\n",
    "y_paths.sort()\n",
    "nb_img=len(y_paths)\n",
    "img_height=128\n",
    "img_width=128\n",
    "y = np.zeros((nb_img, img_height, img_width,1), dtype=np.uint8)\n",
    "\n",
    "for j in range(len(y_paths)) : \n",
    "    img = imread('/space/storage/homes/vrv/cellseg-cuda/processed_data/new_data/labels/' + y_paths[j])\n",
    "    img = resize(img, (img_height, img_width), mode='constant', preserve_range=True)\n",
    "    img = np.expand_dims(img, axis=-1)\n",
    "    y[j]=img"
   ]
  },
  {
   "cell_type": "code",
   "execution_count": 13,
   "id": "4184550c-3e15-4969-9c97-520b92993a04",
   "metadata": {},
   "outputs": [
    {
     "data": {
      "text/plain": [
       "66181"
      ]
     },
     "execution_count": 13,
     "metadata": {},
     "output_type": "execute_result"
    }
   ],
   "source": [
    "len(y)"
   ]
  },
  {
   "cell_type": "code",
   "execution_count": 4,
   "id": "7ad79159-1b4c-40ea-bc67-31925c309134",
   "metadata": {},
   "outputs": [],
   "source": [
    "from progressbar import ProgressBar"
   ]
  },
  {
   "cell_type": "code",
   "execution_count": 5,
   "id": "8977fa54-3557-4d1a-9cc8-ec0201c35ea2",
   "metadata": {},
   "outputs": [
    {
     "name": "stderr",
     "output_type": "stream",
     "text": [
      "100% |########################################################################|\n"
     ]
    }
   ],
   "source": [
    "pbar = ProgressBar()\n",
    "for img in pbar(y):\n",
    "    np.place(img, img == 127, 1)\n",
    "    np.place(img, img == 128, 1)\n",
    "    np.place(img, img == 254, 1)\n",
    "    np.place(img, img == 255, 1)"
   ]
  },
  {
   "cell_type": "code",
   "execution_count": 7,
   "id": "108a2e15-682f-42a0-9e2b-6050cac45aa5",
   "metadata": {},
   "outputs": [],
   "source": [
    "for i in range(len(y)):\n",
    "    cv2.imwrite('/space/storage/homes/vrv/cellseg-cuda/processed_data/new_data/labels_2_classes/' + str(i).zfill(5)+\".pgm\", y[i])"
   ]
  },
  {
   "cell_type": "code",
   "execution_count": 8,
   "id": "ab513b48-11d8-4315-a171-28b7cd7cb6fc",
   "metadata": {},
   "outputs": [
    {
     "data": {
      "image/png": "[encoded data removed]",
      "text/plain": [
       "<Figure size 432x288 with 1 Axes>"
      ]
     },
     "metadata": {
      "needs_background": "light"
     },
     "output_type": "display_data"
    }
   ],
   "source": [
    "plt.imshow(y[0], cmap='gray')\n",
    "plt.show()"
   ]
  }
 ],
 "metadata": {
  "kernelspec": {
   "display_name": "Python 3",
   "language": "python",
   "name": "python3"
  },
  "language_info": {
   "codemirror_mode": {
    "name": "ipython",
    "version": 3
   },
   "file_extension": ".py",
   "mimetype": "text/x-python",
   "name": "python",
   "nbconvert_exporter": "python",
   "pygments_lexer": "ipython3",
   "version": "3.6.5"
  }
 },
 "nbformat": 4,
 "nbformat_minor": 5
}
